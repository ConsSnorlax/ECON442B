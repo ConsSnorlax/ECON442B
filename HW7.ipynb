{
 "cells": [
  {
   "cell_type": "markdown",
   "metadata": {
    "id": "HKSTLF2BX6jH"
   },
   "source": [
    "# ECON441B HW7\n",
    "## Xun GONG 205452646"
   ]
  },
  {
   "cell_type": "code",
   "execution_count": 1,
   "metadata": {
    "colab": {
     "base_uri": "https://localhost:8080/"
    },
    "id": "N11Ee3GJmywu",
    "outputId": "64e10b54-dad3-48e2-c266-617670a17e82",
    "scrolled": false
   },
   "outputs": [
    {
     "name": "stdout",
     "output_type": "stream",
     "text": [
      "Collecting openai\n",
      "  Downloading openai-1.12.0-py3-none-any.whl (226 kB)\n",
      "\u001b[2K     \u001b[90m━━━━━━━━━━━━━━━━━━━━━━━━━━━━━━━━━━━━━\u001b[0m \u001b[32m226.7/226.7 kB\u001b[0m \u001b[31m840.1 kB/s\u001b[0m eta \u001b[36m0:00:00\u001b[0ma \u001b[36m0:00:01\u001b[0m\n",
      "\u001b[?25hCollecting wikipedia\n",
      "  Downloading wikipedia-1.4.0.tar.gz (27 kB)\n",
      "  Preparing metadata (setup.py) ... \u001b[?25ldone\n",
      "\u001b[?25hRequirement already satisfied: anyio<5,>=3.5.0 in /Users/consgong/anaconda3/lib/python3.10/site-packages (from openai) (3.5.0)\n",
      "Requirement already satisfied: sniffio in /Users/consgong/anaconda3/lib/python3.10/site-packages (from openai) (1.2.0)\n",
      "Collecting httpx<1,>=0.23.0\n",
      "  Downloading httpx-0.27.0-py3-none-any.whl (75 kB)\n",
      "\u001b[2K     \u001b[90m━━━━━━━━━━━━━━━━━━━━━━━━━━━━━━━━━━━━━━━━\u001b[0m \u001b[32m75.6/75.6 kB\u001b[0m \u001b[31m6.6 MB/s\u001b[0m eta \u001b[36m0:00:00\u001b[0m\n",
      "\u001b[?25hRequirement already satisfied: typing-extensions<5,>=4.7 in /Users/consgong/anaconda3/lib/python3.10/site-packages (from openai) (4.9.0)\n",
      "Requirement already satisfied: tqdm>4 in /Users/consgong/anaconda3/lib/python3.10/site-packages (from openai) (4.66.1)\n",
      "Requirement already satisfied: pydantic<3,>=1.9.0 in /Users/consgong/anaconda3/lib/python3.10/site-packages (from openai) (1.10.13)\n",
      "Collecting distro<2,>=1.7.0\n",
      "  Downloading distro-1.9.0-py3-none-any.whl (20 kB)\n",
      "Requirement already satisfied: beautifulsoup4 in /Users/consgong/anaconda3/lib/python3.10/site-packages (from wikipedia) (4.11.1)\n",
      "Requirement already satisfied: requests<3.0.0,>=2.0.0 in /Users/consgong/anaconda3/lib/python3.10/site-packages (from wikipedia) (2.31.0)\n",
      "Requirement already satisfied: idna>=2.8 in /Users/consgong/anaconda3/lib/python3.10/site-packages (from anyio<5,>=3.5.0->openai) (3.4)\n",
      "Collecting httpcore==1.*\n",
      "  Downloading httpcore-1.0.4-py3-none-any.whl (77 kB)\n",
      "\u001b[2K     \u001b[90m━━━━━━━━━━━━━━━━━━━━━━━━━━━━━━━━━━━━━━━━\u001b[0m \u001b[32m77.8/77.8 kB\u001b[0m \u001b[31m4.5 MB/s\u001b[0m eta \u001b[36m0:00:00\u001b[0m\n",
      "\u001b[?25hRequirement already satisfied: certifi in /Users/consgong/anaconda3/lib/python3.10/site-packages (from httpx<1,>=0.23.0->openai) (2022.12.7)\n",
      "Collecting h11<0.15,>=0.13\n",
      "  Downloading h11-0.14.0-py3-none-any.whl (58 kB)\n",
      "\u001b[2K     \u001b[90m━━━━━━━━━━━━━━━━━━━━━━━━━━━━━━━━━━━━━━━\u001b[0m \u001b[32m58.3/58.3 kB\u001b[0m \u001b[31m128.2 kB/s\u001b[0m eta \u001b[36m0:00:00\u001b[0ma \u001b[36m0:00:01\u001b[0m\n",
      "\u001b[?25hRequirement already satisfied: urllib3<3,>=1.21.1 in /Users/consgong/anaconda3/lib/python3.10/site-packages (from requests<3.0.0,>=2.0.0->wikipedia) (1.26.14)\n",
      "Requirement already satisfied: charset-normalizer<4,>=2 in /Users/consgong/anaconda3/lib/python3.10/site-packages (from requests<3.0.0,>=2.0.0->wikipedia) (2.0.4)\n",
      "Requirement already satisfied: soupsieve>1.2 in /Users/consgong/anaconda3/lib/python3.10/site-packages (from beautifulsoup4->wikipedia) (2.3.2.post1)\n",
      "Building wheels for collected packages: wikipedia\n",
      "  Building wheel for wikipedia (setup.py) ... \u001b[?25ldone\n",
      "\u001b[?25h  Created wheel for wikipedia: filename=wikipedia-1.4.0-py3-none-any.whl size=11680 sha256=88717e6911cc7c321a9877c662e7f93e982f297be6de9d3f19b5d6360a34d655\n",
      "  Stored in directory: /Users/consgong/Library/Caches/pip/wheels/b2/7f/26/524faff9145e274da278dc97d63ab0bfde1f791ecf101a9c95\n",
      "Successfully built wikipedia\n",
      "Installing collected packages: h11, distro, wikipedia, httpcore, httpx, openai\n",
      "Successfully installed distro-1.9.0 h11-0.14.0 httpcore-1.0.4 httpx-0.27.0 openai-1.12.0 wikipedia-1.4.0\n",
      "Note: you may need to restart the kernel to use updated packages.\n"
     ]
    }
   ],
   "source": [
    "pip install openai wikipedia"
   ]
  },
  {
   "cell_type": "code",
   "execution_count": 3,
   "metadata": {
    "id": "Q2A8TGhKm3i5"
   },
   "outputs": [],
   "source": [
    "import openai\n",
    "import os\n",
    "import wikipedia"
   ]
  },
  {
   "cell_type": "markdown",
   "metadata": {
    "id": "7E9HEMJSX-3T"
   },
   "source": [
    "# 1.) Set up OpenAI and the enviornment\n"
   ]
  },
  {
   "cell_type": "code",
   "execution_count": 57,
   "metadata": {
    "id": "4zwwdkZDYDZN"
   },
   "outputs": [],
   "source": [
    "# DONE\n"
   ]
  },
  {
   "cell_type": "markdown",
   "metadata": {
    "id": "tOXc5_BTm9HP"
   },
   "source": [
    "# 2.) Use the wikipedia api to get a function that pulls in the text of a wikipedia page"
   ]
  },
  {
   "cell_type": "code",
   "execution_count": 121,
   "metadata": {
    "id": "TgY2FkTdmhTH"
   },
   "outputs": [
    {
     "data": {
      "text/plain": [
       "'William Shakespeare (bapt.Tooltip baptised 26 April 1564 – 23 April 1616) was an English playwright, poet and actor. He is widely regarded as the greatest writer in the English language and the world\\'s pre-eminent dramatist. He is often called England\\'s national poet and the \"Bard of Avon\" (or simply \"the Bard\"). His extant works, including collaborations, consist of some 39 plays, 154 sonnets, three long narrative poems, and a few other verses, some of uncertain authorship. His plays have been translated into every major living language and are performed more often than those of any other playwright. Shakespeare remains arguably the most influential writer in the English language, and his works continue to be studied and reinterpreted.\\nShakespeare was born and raised in Stratford-upon-Avon, Warwickshire. At the age of 18, he married Anne Hathaway, with whom he had three children: Susanna, and twins Hamnet and Judith. Sometime between 1585 and 1592, he began a successful career in London as an actor, writer, and part-owner (\"sharer\") of a playing company called the Lord Chamberlain\\'s Men, later known as the King\\'s Men after the ascension of King James VI of Scotland to the English throne. At age 49 (around 1613), he appears to have retired to Stratford, where he died three years later. Few records of Shakespeare\\'s private life survive; this has stimulated considerable speculation about such matters as his physical appearance, his sexuality, his religious beliefs, and even certain fringe theories as to whether the works attributed to him were written by others.Shakespeare produced most of his known works between 1589 and 1613. His early plays were primarily comedies and histories and are regarded as some of the best works produced in these genres. He then wrote mainly tragedies until 1608, among them Hamlet, Romeo and Juliet, Othello, King Lear, and Macbeth, all considered to be among the finest works in the English language. In the last phase of his life, he wrote tragicomedies (also known as romances) and collaborated with other playwrights.\\nMany of Shakespeare\\'s plays were published in editions of varying quality and accuracy during his lifetime. However, in 1623, John Heminges and Henry Condell, two fellow actors and friends of Shakespeare\\'s, published a more definitive text known as the First Folio, a posthumous collected edition of Shakespeare\\'s dramatic works that includes 36 of his plays. Its Preface was a prescient poem by Ben Jonson, a former rival of Shakespeare, that hailed Shakespeare with the now famous epithet: \"not of an age, but for all time\".\\n\\n\\n== Life ==\\n\\n\\n=== Early life ===\\nShakespeare was the son of John Shakespeare, an alderman and a successful glover (glove-maker) originally from Snitterfield in Warwickshire, and Mary Arden, the daughter of an affluent landowning family. He was born in Stratford-upon-Avon, where he was baptised on 26 April 1564. His date of birth is unknown, but is traditionally observed on 23 April, Saint George\\'s Day. This date, which can be traced to William Oldys and George Steevens, has proved appealing to biographers because Shakespeare died on the same date in 1616. He was the third of eight children, and the eldest surviving son.Although no attendance records for the period survive, most biographers agree that Shakespeare was probably educated at the King\\'s New School in Stratford, a free school chartered in 1553, about a quarter-mile (400 m) from his home. Grammar schools varied in quality during the Elizabethan era, but grammar school curricula were largely similar: the basic Latin text was standardised by royal decree, and the school would have provided an intensive education in grammar based upon Latin classical authors.At the age of 18, Shakespeare married 26-year-old Anne Hathaway. The consistory court of the Diocese of Worcester issued a marriage licence on 27 November 1582. The next day, two of Hathaway\\'s neighbours posted bonds guaranteeing that no lawful claims impeded the marriage. The ceremony may have been arranged in some haste since the Worcester chancellor allowed the marriage banns to be read once instead of the usual three times, and six months after the marriage Anne gave birth to a daughter, Susanna, baptised 26 May 1583. Twins, son Hamnet and daughter Judith, followed almost two years later and were baptised 2 February 1585. Hamnet died of unknown causes at the age of 11 and was buried 11 August 1596.\\nAfter the birth of the twins, Shakespeare left few historical traces until he is mentioned as part of the London theatre scene in 1592. The exception is the appearance of his name in the \"complaints bill\" of a law case before the Queen\\'s Bench court at Westminster dated Michaelmas Term 1588 and 9 October 1589. Scholars refer to the years between 1585 and 1592 as Shakespeare\\'s \"lost years\". Biographers attempting to account for this period have reported many apocryphal stories. Nicholas Rowe, Shakespeare\\'s first biographer, recounted a Stratford legend that Shakespeare fled the town for London to escape prosecution for deer poaching in the estate of local squire Thomas Lucy. Shakespeare is also supposed to have taken his revenge on Lucy by writing a scurrilous ballad about him. Another 18th-century story has Shakespeare starting his theatrical career minding the horses of theatre patrons in London. John Aubrey reported that Shakespeare had been a country schoolmaster. Some 20th-century scholars suggested that Shakespeare may have been employed as a schoolmaster by Alexander Hoghton of Lancashire, a Catholic landowner who named a certain \"William Shakeshafte\" in his will. Little evidence substantiates such stories other than hearsay collected after his death, and Shakeshafte was a common name in the Lancashire area.\\n\\n\\n=== London and theatrical career ===\\nIt is not known definitively when Shakespeare began writing, but contemporary allusions and records of performances show that several of his plays were on the London stage by 1592. By then, he was sufficiently known in London to be attacked in print by the playwright Robert Greene in his Groats-Worth of Wit from that year:\\n\\n... there is an upstart Crow, beautified with our feathers, that with his Tiger\\'s heart wrapped in a Player\\'s hide, supposes he is as well able to bombast out a blank verse as the best of you: and being an absolute Johannes factotum, is in his own conceit the only Shake-scene in a country.\\nScholars differ on the exact meaning of Greene\\'s words, but most agree that Greene was accusing Shakespeare of reaching above his rank in trying to match such university-educated writers as Christopher Marlowe, Thomas Nashe, and Greene himself (the so-called \"University Wits\"). The italicised phrase parodying the line \"Oh, tiger\\'s heart wrapped in a woman\\'s hide\" from Shakespeare\\'s Henry VI, Part 3, along with the pun \"Shake-scene\", clearly identify Shakespeare as Greene\\'s target. As used here, Johannes Factotum (\"Jack of all trades\") refers to a second-rate tinkerer with the work of others, rather than the more common \"universal genius\".Greene\\'s attack is the earliest surviving mention of Shakespeare\\'s work in the theatre. Biographers suggest that his career may have begun any time from the mid-1580s to just before Greene\\'s remarks. After 1594, Shakespeare\\'s plays were performed only by the Lord Chamberlain\\'s Men, a company owned by a group of players, including Shakespeare, that soon became the leading playing company in London. After the death of Queen Elizabeth in 1603, the company was awarded a royal patent by the new King James I, and changed its name to the King\\'s Men.\\n\\nIn 1599, a partnership of members of the company built their own theatre on the south bank of the River Thames, which they named the Globe. In 1608, the partnership also took over the Blackfriars indoor theatre. Extant records of Shakespeare\\'s property purchases and investments indicate that his association with the company made him a wealthy man, and in 1597, he bought the second-largest house in Stratford, New Place, and in 1605, invested in a share of the parish tithes in Stratford.Some of Shakespeare\\'s plays were published in quarto editions, beginning in 1594, and by 1598, his name had become a selling point and began to appear on the title pages. Shakespeare continued to act in his own and other plays after his success as a playwright. The 1616 edition of Ben Jonson\\'s Works names him on the cast lists for Every Man in His Humour (1598) and Sejanus His Fall (1603). The absence of his name from the 1605 cast list for Jonson\\'s Volpone is taken by some scholars as a sign that his acting career was nearing its end. The First Folio of 1623, however, lists Shakespeare as one of \"the Principal Actors in all these Plays\", some of which were first staged after Volpone, although one cannot know for certain which roles he played. In 1610, John Davies of Hereford wrote that \"good Will\" played \"kingly\" roles. In 1709, Rowe passed down a tradition that Shakespeare played the ghost of Hamlet\\'s father. Later traditions maintain that he also played Adam in As You Like It, and the Chorus in Henry V, though scholars doubt the sources of that information.Throughout his career, Shakespeare divided his time between London and Stratford. In 1596, the year before he bought New Place as his family home in Stratford, Shakespeare was living in the parish of St Helen\\'s, Bishopsgate, north of the River Thames. He moved across the river to Southwark by 1599, the same year his company constructed the Globe Theatre there. By 1604, he had moved north of the river again, to an area north of St Paul\\'s Cathedral with many fine houses. There, he rented rooms from a French Huguenot named Christopher Mountjoy, a maker of women\\'s wigs and other headgear.\\n\\n\\n=== Later years and death ===\\nNicholas Rowe was the first biographer to record the tradition, repeated by Samuel Johnson, that Shakespeare retired to Stratford \"some years before his death\". He was still working as an actor in London in 1608; in an answer to the sharers\\' petition in 1635, Cuthbert Burbage stated that after purchasing the lease of the Blackfriars Theatre in 1608 from Henry Evans, the King\\'s Men \"placed men players\" there, \"which were Heminges, Condell, Shakespeare, etc.\". However, it is perhaps relevant that the bubonic plague raged in London throughout 1609. The London public playhouses were repeatedly closed during extended outbreaks of the plague (a total of over 60 months closure between May 1603 and February 1610), which meant there was often no acting work. Retirement from all work was uncommon at that time. Shakespeare continued to visit London during the years 1611–1614. In 1612, he was called as a witness in Bellott v Mountjoy, a court case concerning the marriage settlement of Mountjoy\\'s daughter, Mary. In March 1613, he bought a gatehouse in the former Blackfriars priory; and from November 1614, he was in London for several weeks with his son-in-law, John Hall. After 1610, Shakespeare wrote fewer plays, and none are attributed to him after 1613. His last three plays were collaborations, probably with John Fletcher, who succeeded him as the house playwright of the King\\'s Men. He retired in 1613, before the Globe Theatre burned down during the performance of Henry VIII on 29 June.Shakespeare died on 23 April 1616, at the age of 52. He died within a month of signing his will, a document which he begins by describing himself as being in \"perfect health\". No extant contemporary source explains how or why he died. Half a century later, John Ward, the vicar of Stratford, wrote in his notebook: \"Shakespeare, Drayton, and Ben Jonson had a merry meeting and, it seems, drank too hard, for Shakespeare died of a fever there contracted\", not an impossible scenario since Shakespeare knew Jonson and Drayton. Of the tributes from fellow authors, one refers to his relatively sudden death: \"We wondered, Shakespeare, that thou went\\'st so soon / From the world\\'s stage to the grave\\'s tiring room.\"\\nHe was survived by his wife and two daughters. Susanna had married a physician, John Hall, in 1607, and Judith had married Thomas Quiney, a vintner, two months before Shakespeare\\'s death. Shakespeare signed his last will and testament on 25 March 1616; the following day, Thomas Quiney, his new son-in-law, was found guilty of fathering an illegitimate son by Margaret Wheeler, both of whom had died during childbirth. Thomas was ordered by the church court to do public penance, which would have caused much shame and embarrassment for the Shakespeare family.Shakespeare bequeathed the bulk of his large estate to his elder daughter Susanna under stipulations that she pass it down intact to \"the first son of her body\". The Quineys had three children, all of whom died without marrying. The Halls had one child, Elizabeth, who married twice but died without children in 1670, ending Shakespeare\\'s direct line. Shakespeare\\'s will scarcely mentions his wife, Anne, who was probably entitled to one-third of his estate automatically. He did make a point, however, of leaving her \"my second best bed\", a bequest that has led to much speculation. Some scholars see the bequest as an insult to Anne, whereas others believe that the second-best bed would have been the matrimonial bed and therefore rich in significance.\\nShakespeare was buried in the chancel of the Holy Trinity Church two days after his death. The epitaph carved into the stone slab covering his grave includes a curse against moving his bones, which was carefully avoided during restoration of the church in 2008:\\nSome time before 1623, a funerary monument was erected in his memory on the north wall, with a half-effigy of him in the act of writing. Its plaque compares him to Nestor, Socrates, and Virgil. In 1623, in conjunction with the publication of the First Folio, the Droeshout engraving was published. Shakespeare has been commemorated in many statues and memorials around the world, including funeral monuments in Southwark Cathedral and Poets\\' Corner in Westminster Abbey.\\n\\n\\n== Plays ==\\n\\nMost playwrights of the period typically collaborated with others at some point, as critics agree Shakespeare did, mostly early and late in his career.The first recorded works of Shakespeare are Richard III and the three parts of Henry VI, written in the early 1590s during a vogue for historical drama. Shakespeare\\'s plays are difficult to date precisely, however, and studies of the texts suggest that Titus Andronicus, The Comedy of Errors, The Taming of the Shrew, and The Two Gentlemen of Verona may also belong to Shakespeare\\'s earliest period. His first histories, which draw heavily on the 1587 edition of Raphael Holinshed\\'s Chronicles of England, Scotland, and Ireland, dramatise the destructive results of weak or corrupt rule and have been interpreted as a justification for the origins of the Tudor dynasty. The early plays were influenced by the works of other Elizabethan dramatists, especially Thomas Kyd and Christopher Marlowe, by the traditions of medieval drama, and by the plays of Seneca. The Comedy of Errors was also based on classical models, but no source for The Taming of the Shrew has been found, though it is related to a separate play of the same name and may have derived from a folk story. Like The Two Gentlemen of Verona, in which two friends appear to approve of rape, the Shrew\\'s story of the taming of a woman\\'s independent spirit by a man sometimes troubles modern critics, directors, and audiences.\\nShakespeare\\'s early classical and Italianate comedies, containing tight double plots and precise comic sequences, give way in the mid-1590s to the romantic atmosphere of his most acclaimed comedies. A Midsummer Night\\'s Dream is a witty mixture of romance, fairy magic, and comic lowlife scenes. Shakespeare\\'s next comedy, the equally romantic Merchant of Venice, contains a portrayal of the vengeful Jewish moneylender Shylock, which reflects dominant Elizabethan views but may appear derogatory to modern audiences. The wit and wordplay of Much Ado About Nothing, the charming rural setting of As You Like It, and the lively merrymaking of Twelfth Night complete Shakespeare\\'s sequence of great comedies. After the lyrical Richard II, written almost entirely in verse, Shakespeare introduced prose comedy into the histories of the late 1590s, Henry IV, parts 1 and 2, and Henry V. His characters become more complex and tender as he switches deftly between comic and serious scenes, prose and poetry, and achieves the narrative variety of his mature work. This period begins and ends with two tragedies: Romeo and Juliet, the famous romantic tragedy of sexually charged adolescence, love, and death; and Julius Caesar—based on Sir Thomas North\\'s 1579 translation of Plutarch\\'s Parallel Lives—which introduced a new kind of drama. According to Shakespearean scholar James Shapiro, in Julius Caesar, \"the various strands of politics, character, inwardness, contemporary events, even Shakespeare\\'s own reflections on the act of writing, began to infuse each other\".\\nIn the early 17th century, Shakespeare wrote the so-called \"problem plays\" Measure for Measure, Troilus and Cressida, and All\\'s Well That Ends Well and a number of his best known tragedies. Many critics believe that Shakespeare\\'s greatest tragedies represent the peak of his art. The titular hero of one of Shakespeare\\'s greatest tragedies, Hamlet, has probably been discussed more than any other Shakespearean character, especially for his famous soliloquy which begins \"To be or not to be; that is the question\". Unlike the introverted Hamlet, whose fatal flaw is hesitation, the heroes of the tragedies that followed, Othello and King Lear, are undone by hasty errors of judgement. The plots of Shakespeare\\'s tragedies often hinge on such fatal errors or flaws, which overturn order and destroy the hero and those he loves. In Othello, the villain Iago stokes Othello\\'s sexual jealousy to the point where he murders the innocent wife who loves him. In King Lear, the old king commits the tragic error of giving up his powers, initiating the events which lead to the torture and blinding of the Earl of Gloucester and the murder of Lear\\'s youngest daughter Cordelia. According to the critic Frank Kermode, \"the play...offers neither its good characters nor its audience any relief from its cruelty\". In Macbeth, the shortest and most compressed of Shakespeare\\'s tragedies, uncontrollable ambition incites Macbeth and his wife, Lady Macbeth, to murder the rightful king and usurp the throne until their own guilt destroys them in turn. In this play, Shakespeare adds a supernatural element to the tragic structure. His last major tragedies, Antony and Cleopatra and Coriolanus, contain some of Shakespeare\\'s finest poetry and were considered his most successful tragedies by the poet and critic T. S. Eliot.In his final period, Shakespeare turned to romance or tragicomedy and completed three more major plays: Cymbeline, The Winter\\'s Tale, and The Tempest, as well as the collaboration, Pericles, Prince of Tyre. Less bleak than the tragedies, these four plays are graver in tone than the comedies of the 1590s, but they end with reconciliation and the forgiveness of potentially tragic errors. Some commentators have seen this change in mood as evidence of a more serene view of life on Shakespeare\\'s part, but it may merely reflect the theatrical fashion of the day. Shakespeare collaborated on two further surviving plays, Henry VIII and The Two Noble Kinsmen, probably with John Fletcher.\\n\\n\\n=== Classification ===\\n\\nShakespeare\\'s works include the 36 plays printed in the First Folio of 1623, listed according to their folio classification as comedies, histories, and tragedies. Two plays not included in the First Folio, The Two Noble Kinsmen and Pericles, Prince of Tyre, are now accepted as part of the canon, with today\\'s scholars agreeing that Shakespeare made major contributions to the writing of both. No Shakespearean poems were included in the First Folio.\\nIn the late 19th century, Edward Dowden classified four of the late comedies as romances, and though many scholars prefer to call them tragicomedies, Dowden\\'s term is often used. In 1896, Frederick S. Boas coined the term \"problem plays\" to describe four plays: All\\'s Well That Ends Well, Measure for Measure, Troilus and Cressida, and Hamlet. \"Dramas as singular in theme and temper cannot be strictly called comedies or tragedies\", he wrote. \"We may, therefore, borrow a convenient phrase from the theatre of today and class them together as Shakespeare\\'s problem plays.\" The term, much debated and sometimes applied to other plays, remains in use, though Hamlet is definitively classed as a tragedy.\\n\\n\\n=== Performances ===\\n\\nIt is not clear for which companies Shakespeare wrote his early plays. The title page of the 1594 edition of Titus Andronicus reveals that the play had been acted by three different troupes. After the plagues of 1592–93, Shakespeare\\'s plays were performed by his own company at The Theatre and the Curtain in Shoreditch, north of the Thames. Londoners flocked there to see the first part of Henry IV, Leonard Digges recording, \"Let but Falstaff come, Hal, Poins, the rest ... and you scarce shall have a room\". When the company found themselves in dispute with their landlord, they pulled The Theatre down and used the timbers to construct the Globe Theatre, the first playhouse built by actors for actors, on the south bank of the Thames at Southwark. The Globe opened in autumn 1599, with Julius Caesar one of the first plays staged. Most of Shakespeare\\'s greatest post-1599 plays were written for the Globe, including Hamlet, Othello, and King Lear.\\nAfter the Lord Chamberlain\\'s Men were renamed the King\\'s Men in 1603, they entered a special relationship with the new King James. Although the performance records are patchy, the King\\'s Men performed seven of Shakespeare\\'s plays at court between 1 November 1604, and 31 October 1605, including two performances of The Merchant of Venice. After 1608, they performed at the indoor Blackfriars Theatre during the winter and the Globe during the summer. The indoor setting, combined with the Jacobean fashion for lavishly staged masques, allowed Shakespeare to introduce more elaborate stage devices. In Cymbeline, for example, Jupiter descends \"in thunder and lightning, sitting upon an eagle: he throws a thunderbolt. The ghosts fall on their knees.\"The actors in Shakespeare\\'s company included the famous Richard Burbage, William Kempe, Henry Condell and John Heminges. Burbage played the leading role in the first performances of many of Shakespeare\\'s plays, including Richard III, Hamlet, Othello, and King Lear. The popular comic actor Will Kempe played the servant Peter in Romeo and Juliet and Dogberry in Much Ado About Nothing, among other characters. He was replaced around 1600 by Robert Armin, who played roles such as Touchstone in As You Like It and the fool in King Lear. In 1613, Sir Henry Wotton recorded that Henry VIII \"was set forth with many extraordinary circumstances of pomp and ceremony\". On 29 June, however, a cannon set fire to the thatch of the Globe and burned the theatre to the ground, an event which pinpoints the date of a Shakespeare play with rare precision.\\n\\n\\n=== Textual sources ===\\nIn 1623, John Heminges and Henry Condell, two of Shakespeare\\'s friends from the King\\'s Men, published the First Folio, a collected edition of Shakespeare\\'s plays. It contained 36 texts, including 18 printed for the first time. The others had already appeared in quarto versions—flimsy books made from sheets of paper folded twice to make four leaves. No evidence suggests that Shakespeare approved these editions, which the First Folio describes as \"stol\\'n and surreptitious copies\".Alfred Pollard termed some of the pre-1623 versions as \"bad quartos\" because of their adapted, paraphrased or garbled texts, which may in places have been reconstructed from memory. Where several versions of a play survive, each differs from the others. The differences may stem from copying or printing errors, from notes by actors or audience members, or from Shakespeare\\'s own papers. In some cases, for example, Hamlet, Troilus and Cressida, and Othello, Shakespeare could have revised the texts between the quarto and folio editions. In the case of King Lear, however, while most modern editions do conflate them, the 1623 folio version is so different from the 1608 quarto that the Oxford Shakespeare prints them both, arguing that they cannot be conflated without confusion.\\n\\n\\n== Poems ==\\nIn 1593 and 1594, when the theatres were closed because of plague, Shakespeare published two narrative poems on sexual themes, Venus and Adonis and The Rape of Lucrece. He dedicated them to Henry Wriothesley, Earl of Southampton. In Venus and Adonis, an innocent Adonis rejects the sexual advances of Venus; while in The Rape of Lucrece, the virtuous wife Lucrece is raped by the lustful Tarquin. Influenced by Ovid\\'s Metamorphoses, the poems show the guilt and moral confusion that result from uncontrolled lust. Both proved popular and were often reprinted during Shakespeare\\'s lifetime. A third narrative poem, A Lover\\'s Complaint, in which a young woman laments her seduction by a persuasive suitor, was printed in the first edition of the Sonnets in 1609. Most scholars now accept that Shakespeare wrote A Lover\\'s Complaint. Critics consider that its fine qualities are marred by leaden effects. The Phoenix and the Turtle, printed in Robert Chester\\'s 1601 Love\\'s Martyr, mourns the deaths of the legendary phoenix and his lover, the faithful turtle dove. In 1599, two early drafts of sonnets 138 and 144 appeared in The Passionate Pilgrim, published under Shakespeare\\'s name but without his permission.\\n\\n\\n=== Sonnets ===\\n\\nPublished in 1609, the Sonnets were the last of Shakespeare\\'s non-dramatic works to be printed. Scholars are not certain when each of the 154 sonnets was composed, but evidence suggests that Shakespeare wrote sonnets throughout his career for a private readership. Even before the two unauthorised sonnets appeared in The Passionate Pilgrim in 1599, Francis Meres had referred in 1598 to Shakespeare\\'s \"sugred Sonnets among his private friends\". Few analysts believe that the published collection follows Shakespeare\\'s intended sequence. He seems to have planned two contrasting series: one about uncontrollable lust for a married woman of dark complexion (the \"dark lady\"), and one about conflicted love for a fair young man (the \"fair youth\"). It remains unclear if these figures represent real individuals, or if the authorial \"I\" who addresses them represents Shakespeare himself, though Wordsworth believed that with the sonnets \"Shakespeare unlocked his heart\".\\n\\nThe 1609 edition was dedicated to a \"Mr. W.H.\", credited as \"the only begetter\" of the poems. It is not known whether this was written by Shakespeare himself or by the publisher, Thomas Thorpe, whose initials appear at the foot of the dedication page; nor is it known who Mr. W.H. was, despite numerous theories, or whether Shakespeare even authorised the publication. Critics praise the Sonnets as a profound meditation on the nature of love, sexual passion, procreation, death, and time.\\n\\n\\n== Style ==\\n\\nShakespeare\\'s first plays were written in the conventional style of the day. He wrote them in a stylised language that does not always spring naturally from the needs of the characters or the drama. The poetry depends on extended, sometimes elaborate metaphors and conceits, and the language is often rhetorical—written for actors to declaim rather than speak. The grand speeches in Titus Andronicus, in the view of some critics, often hold up the action, for example; and the verse in The Two Gentlemen of Verona has been described as stilted.\\nHowever, Shakespeare soon began to adapt the traditional styles to his own purposes. The opening soliloquy of Richard III has its roots in the self-declaration of Vice in medieval drama. At the same time, Richard\\'s vivid self-awareness looks forward to the soliloquies of Shakespeare\\'s mature plays. No single play marks a change from the traditional to the freer style. Shakespeare combined the two throughout his career, with Romeo and Juliet perhaps the best example of the mixing of the styles. By the time of Romeo and Juliet, Richard II, and A Midsummer Night\\'s Dream in the mid-1590s, Shakespeare had begun to write a more natural poetry. He increasingly tuned his metaphors and images to the needs of the drama itself.\\nShakespeare\\'s standard poetic form was blank verse, composed in iambic pentameter. In practice, this meant that his verse was usually unrhymed and consisted of ten syllables to a line, spoken with a stress on every second syllable. The blank verse of his early plays is quite different from that of his later ones. It is often beautiful, but its sentences tend to start, pause, and finish at the end of lines, with the risk of monotony. Once Shakespeare mastered traditional blank verse, he began to interrupt and vary its flow. This technique releases the new power and flexibility of the poetry in plays such as Julius Caesar and Hamlet. Shakespeare uses it, for example, to convey the turmoil in Hamlet\\'s mind:\\n\\nAfter Hamlet, Shakespeare varied his poetic style further, particularly in the more emotional passages of the late tragedies. The literary critic A. C. Bradley described this style as \"more concentrated, rapid, varied, and, in construction, less regular, not seldom twisted or elliptical\". In the last phase of his career, Shakespeare adopted many techniques to achieve these effects. These included run-on lines, irregular pauses and stops, and extreme variations in sentence structure and length. In Macbeth, for example, the language darts from one unrelated metaphor or simile to another: \"was the hope drunk/ Wherein you dressed yourself?\" (1.7.35–38); \"... pity, like a naked new-born babe/ Striding the blast, or heaven\\'s cherubim, hors\\'d/ Upon the sightless couriers of the air ...\" (1.7.21–25). The listener is challenged to complete the sense. The late romances, with their shifts in time and surprising turns of plot, inspired a last poetic style in which long and short sentences are set against one another, clauses are piled up, subject and object are reversed, and words are omitted, creating an effect of spontaneity.Shakespeare combined poetic genius with a practical sense of the theatre. Like all playwrights of the time, he dramatised stories from sources such as Plutarch and Holinshed. He reshaped each plot to create several centres of interest and to show as many sides of a narrative to the audience as possible. This strength of design ensures that a Shakespeare play can survive translation, cutting, and wide interpretation without loss to its core drama. As Shakespeare\\'s mastery grew, he gave his characters clearer and more varied motivations and distinctive patterns of speech. He preserved aspects of his earlier style in the later plays, however. In Shakespeare\\'s late romances, he deliberately returned to a more artificial style, which emphasised the illusion of theatre.\\n\\n\\n== Legacy ==\\n\\n\\n=== Influence ===\\n\\nShakespeare\\'s work has made a significant and lasting impression on later theatre and literature. In particular, he expanded the dramatic potential of characterisation, plot, language, and genre. Until Romeo and Juliet, for example, romance had not been viewed as a worthy topic for tragedy. Soliloquies had been used mainly to convey information about characters or events, but Shakespeare used them to explore characters\\' minds. His work heavily influenced later poetry. The Romantic poets attempted to revive Shakespearean verse drama, though with little success. Critic George Steiner described all English verse dramas from Coleridge to Tennyson as \"feeble variations on Shakespearean themes.\" John Milton, considered by many to be the most important English poet after Shakespeare, wrote in tribute: \"Thou in our wonder and astonishment/ Hast built thyself a live-long monument.\"Shakespeare influenced novelists such as Thomas Hardy, William Faulkner, and Charles Dickens. The American novelist Herman Melville\\'s soliloquies owe much to Shakespeare; his Captain Ahab in Moby-Dick is a classic tragic hero, inspired by King Lear. Scholars have identified 20,000 pieces of music linked to Shakespeare\\'s works, including Felix Mendelssohn\\'s overture and incidental music for A Midsummer Night\\'s Dream and Sergei Prokofiev\\'s ballet Romeo and Juliet. His work has inspired several operas, among them Giuseppe Verdi\\'s Macbeth, Otello and Falstaff, whose critical standing compares with that of the source plays. Shakespeare has also inspired many painters, including the Romantics and the Pre-Raphaelites, while William Hogarth\\'s 1745 painting of actor David Garrick playing Richard III was decisive in establishing the genre of theatrical portraiture in Britain. The Swiss Romantic artist Henry Fuseli, a friend of William Blake, even translated Macbeth into German. The psychoanalyst Sigmund Freud drew on Shakespearean psychology, in particular, that of Hamlet, for his theories of human nature. Shakespeare has been a rich source for filmmakers; Akira Kurosawa adapted Macbeth and King Lear as Throne of Blood and Ran, respectively. Other examples of Shakespeare on film include Max Reinhardt\\'s A Midsummer Night\\'s Dream, Laurence Olivier\\'s Hamlet and Al Pacino\\'s documentary Looking For Richard. Orson Welles, a lifelong lover of Shakespeare, directed and starred in films of Macbeth and Othello, and Chimes at Midnight, in which he plays John Falstaff, which Welles himself called his best work.In Shakespeare\\'s day, English grammar, spelling, and pronunciation were less standardised than they are now, and his use of language helped shape modern English. Samuel Johnson quoted him more often than any other author in his A Dictionary of the English Language, the first serious work of its type. Expressions such as \"with bated breath\" (Merchant of Venice) and \"a foregone conclusion\" (Othello) have found their way into everyday English speech.Shakespeare\\'s influence extends far beyond his native England and the English language. His reception in Germany was particularly significant; as early as the 18th century Shakespeare was widely translated and popularised in Germany, and gradually became a \"classic of the German Weimar era;\" Christoph Martin Wieland was the first to produce complete translations of Shakespeare\\'s plays in any language. Actor and theatre director Simon Callow writes, \"this master, this titan, this genius, so profoundly British and so effortlessly universal, each different culture – German, Italian, Russian – was obliged to respond to the Shakespearean example; for the most part, they embraced it, and him, with joyous abandon, as the possibilities of language and character in action that he celebrated liberated writers across the continent. Some of the most deeply affecting productions of Shakespeare have been non-English, and non-European. He is that unique writer: he has something for everyone.\"According to Guinness World Records, Shakespeare remains the world\\'s best-selling playwright, with sales of his plays and poetry believed to have achieved in excess of four billion copies in the almost 400 years since his death. He is also the third most translated author in history.\\n\\n\\n=== Critical reputation ===\\n\\nShakespeare was not revered in his lifetime, but he received a large amount of praise. In 1598, the cleric and author Francis Meres singled him out from a group of English playwrights as \"the most excellent\" in both comedy and tragedy. The authors of the Parnassus plays at St John\\'s College, Cambridge, numbered him with Chaucer, Gower, and Spenser. In the First Folio, Ben Jonson called Shakespeare the \"Soul of the age, the applause, delight, the wonder of our stage\", although he had remarked elsewhere that \"Shakespeare wanted art\" (lacked skill).Between the Restoration of the monarchy in 1660 and the end of the 17th century, classical ideas were in vogue. As a result, critics of the time mostly rated Shakespeare below John Fletcher and Ben Jonson. Thomas Rymer, for example, condemned Shakespeare for mixing the comic with the tragic. Nevertheless, poet and critic John Dryden rated Shakespeare highly, saying of Jonson, \"I admire him, but I love Shakespeare\". He also famously remarked that Shakespeare \"was naturally learned; he needed not the spectacles of books to read nature; he looked inwards, and found her there.\" For several decades, Rymer\\'s view held sway. But during the 18th century, critics began to respond to Shakespeare on his own terms and, like Dryden, to acclaim what they termed his natural genius. A series of scholarly editions of his work, notably those of Samuel Johnson in 1765 and Edmond Malone in 1790, added to his growing reputation. By 1800, he was firmly enshrined as the national poet, and described as the \"Bard of Avon\" (or simply \"the Bard\"). In the 18th and 19th centuries, his reputation also spread abroad. Among those who championed him were the writers Voltaire, Goethe, Stendhal, and Victor Hugo.\\nDuring the Romantic era, Shakespeare was praised by the poet and literary philosopher Samuel Taylor Coleridge, and the critic August Wilhelm Schlegel translated his plays in the spirit of German Romanticism. In the 19th century, critical admiration for Shakespeare\\'s genius often bordered on adulation. \"This King Shakespeare,\" the essayist Thomas Carlyle wrote in 1840, \"does not he shine, in crowned sovereignty, over us all, as the noblest, gentlest, yet strongest of rallying signs; indestructible\". The Victorians produced his plays as lavish spectacles on a grand scale. The playwright and critic George Bernard Shaw mocked the cult of Shakespeare worship as \"bardolatry\", claiming that the new naturalism of Ibsen\\'s plays had made Shakespeare obsolete.The modernist revolution in the arts during the early 20th century, far from discarding Shakespeare, eagerly enlisted his work in the service of the avant-garde. The Expressionists in Germany and the Futurists in Moscow mounted productions of his plays. Marxist playwright and director Bertolt Brecht devised an epic theatre under the influence of Shakespeare. The poet and critic T. S. Eliot argued against Shaw that Shakespeare\\'s \"primitiveness\" in fact made him truly modern. Eliot, along with G. Wilson Knight and the school of New Criticism, led a movement towards a closer reading of Shakespeare\\'s imagery. In the 1950s, a wave of new critical approaches replaced modernism and paved the way for post-modern studies of Shakespeare. By the 1980s, Shakespeare studies were open to movements such as structuralism, feminism, New Historicism, African-American studies, and queer studies. Comparing Shakespeare\\'s accomplishments to those of leading figures in philosophy and theology, Harold Bloom wrote, \"Shakespeare was larger than Plato and than St. Augustine. He encloses us because we see with his fundamental perceptions.\"\\n\\n\\n== Speculation ==\\n\\n\\n=== Authorship ===\\n\\nAround 230 years after Shakespeare\\'s death, doubts began to be expressed about the authorship of the works attributed to him. Proposed alternative candidates include Francis Bacon, Christopher Marlowe, and Edward de Vere, 17th Earl of Oxford. Several \"group theories\" have also been proposed. All but a few Shakespeare scholars and literary historians consider it a fringe theory, with only a small minority of academics who believe that there is reason to question the traditional attribution, but interest in the subject, particularly the Oxfordian theory of Shakespeare authorship, continues into the 21st century.\\n\\n\\n=== Religion ===\\n\\nShakespeare conformed to the official state religion, but his private views on religion have been the subject of debate. Shakespeare\\'s will uses a Protestant formula, and he was a confirmed member of the Church of England, where he was married, his children were baptised, and where he is buried. Some scholars claim that members of Shakespeare\\'s family were Catholics, at a time when practising Catholicism in England was against the law. Shakespeare\\'s mother, Mary Arden, certainly came from a pious Catholic family. The strongest evidence might be a Catholic statement of faith signed by his father, John Shakespeare, found in 1757 in the rafters of his former house in Henley Street. However, the document is now lost and scholars differ as to its authenticity. In 1591, the authorities reported that John Shakespeare had missed church \"for fear of process for debt\", a common Catholic excuse. In 1606, the name of William\\'s daughter Susanna appears on a list of those who failed to attend Easter communion in Stratford. Other authors argue that there is a lack of evidence about Shakespeare\\'s religious beliefs. Scholars find evidence both for and against Shakespeare\\'s Catholicism, Protestantism, or lack of belief in his plays, but the truth may be impossible to prove.\\n\\n\\n=== Sexuality ===\\n\\nFew details of Shakespeare\\'s sexuality are known. At 18, he married 26-year-old Anne Hathaway, who was pregnant. Susanna, the first of their three children, was born six months later on 26 May 1583. Over the centuries, some readers have posited that Shakespeare\\'s sonnets are autobiographical, and point to them as evidence of his love for a young man. Others read the same passages as the expression of intense friendship rather than romantic love. The 26 so-called \"Dark Lady\" sonnets, addressed to a married woman, are taken as evidence of heterosexual liaisons.\\n\\n\\n=== Portraiture ===\\n\\nNo written contemporary description of Shakespeare\\'s physical appearance survives, and no evidence suggests that he ever commissioned a portrait, so the Droeshout engraving, which Ben Jonson approved of as a good likeness, and his Stratford monument provide perhaps the best evidence of his appearance. From the 18th century, the desire for authentic Shakespeare portraits fuelled claims that various surviving pictures depicted Shakespeare. That demand also led to the production of several fake portraits, as well as misattributions, repaintings, and relabelling of portraits of other people.\\n\\n\\n== See also ==\\nOutline of William Shakespeare\\nEnglish Renaissance theatre\\nSpelling of Shakespeare\\'s name\\nWorld Shakespeare Bibliography\\n\\n\\n== References ==\\n\\n\\n=== Notes ===\\n\\n\\n=== Citations ===\\n\\n\\n=== Sources ===\\nBooks\\nArticles and online\\n\\n\\n== External links ==\\n\\nDigital editionsWilliam Shakespeare\\'s plays on Bookwise\\nInternet Shakespeare Editions\\nThe Folger Shakespeare\\nOpen Source Shakespeare complete works, with search engine and concordance\\nThe Shakespeare Quartos Archive\\nWorks by William Shakespeare in eBook form at Standard Ebooks\\nWorks by William Shakespeare at Project Gutenberg\\nWorks by or about William Shakespeare at Internet Archive\\nWorks by William Shakespeare at LibriVox (public domain audiobooks) ExhibitionsShakespeare Documented an online exhibition documenting Shakespeare in his own time\\nShakespeare\\'s Will from The National Archives\\nThe Shakespeare Birthplace Trust\\nWilliam Shakespeare at the British LibraryMusicWorks by William Shakespeare set to music: free scores in the Choral Public Domain Library (ChoralWiki)\\nWorks by William Shakespeare set to music: Scores at the International Music Score Library ProjectLegacy and criticismRecords on Shakespeare\\'s Theatre Legacy from the UK Parliamentary Collections\\nWinston Churchill & Shakespeare – UK Parliament Living Heritage'"
      ]
     },
     "execution_count": 121,
     "metadata": {},
     "output_type": "execute_result"
    }
   ],
   "source": [
    "page_titles = ['Shakespeare']\n",
    "page_titile = page_titles[0]\n",
    "results = wikipedia.search(page_titile)\n",
    "page = wikipedia.page(results[0])\n",
    "page.content"
   ]
  },
  {
   "cell_type": "code",
   "execution_count": 80,
   "metadata": {},
   "outputs": [],
   "source": [
    "def get_wikipedia_content(page_title):\n",
    "    search_results = wikipedia.search(page_title)\n",
    "    page = wikipedia.page(search_results[0])\n",
    "    return(page.content)"
   ]
  },
  {
   "cell_type": "markdown",
   "metadata": {
    "id": "_9aruncMmubX"
   },
   "source": [
    "# 3.) Build a chatgpt bot that will analyze the text given and try to locate any false info"
   ]
  },
  {
   "cell_type": "code",
   "execution_count": 119,
   "metadata": {
    "id": "1jI-un5PnDjg"
   },
   "outputs": [],
   "source": [
    "def chatgpt_error_correction(text):\n",
    "    chat_completion = client.chat.completions.create(\n",
    "      model=\"gpt-4\",\n",
    "    messages=[\n",
    "    {\"role\": \"system\", \"content\": \"I will be giving you an article and let me know if anything is potentially false. Go with a fine tooth comb and have low sensitivity for locating potential errors\"},\n",
    "    {\"role\": \"user\", \"content\": text}\n",
    "  ]\n",
    ")\n",
    "    return chat_completion.choices[0].message.content"
   ]
  },
  {
   "cell_type": "code",
   "execution_count": null,
   "metadata": {},
   "outputs": [],
   "source": []
  },
  {
   "cell_type": "markdown",
   "metadata": {},
   "source": [
    "# 4.) Make a for loop and check a few wikipedia pages and return a report of any potentially false info via wikipedia"
   ]
  },
  {
   "cell_type": "code",
   "execution_count": 113,
   "metadata": {},
   "outputs": [],
   "source": [
    "def split_text(text,chunk_size = 8192):\n",
    "    chunks = len(text)//8192 +1\n",
    "    return ([text[i*chunk_size:(i+1)*chunk_size] for i in range(0,chunks-1)])"
   ]
  },
  {
   "cell_type": "code",
   "execution_count": 122,
   "metadata": {
    "id": "_TMKFGN4nDJ4",
    "scrolled": false
   },
   "outputs": [
    {
     "name": "stdout",
     "output_type": "stream",
     "text": [
      "______________Shakespeare\n",
      "The article is highly accurate and contains widely accepted information about William Shakespeare. However, there are some points that are speculative as actual evidence either doesn't exist or is inconclusive.\n",
      "\n",
      "1. Shakespeare's Birth: The exact birth date of William Shakespeare is not known. His baptism was recorded on 26th April 1564, but it was a tradition at the time to perform the baptism three days after birth, which would put his birth on 23 April. Therefore, the information that his birth is 'traditionally observed on 23 April' is speculative.\n",
      "\n",
      "2. Lost Years: The information about Shakespeare's \"lost years\" or the period between 1585 and 1592 lacks concrete evidence. The accounts of him being a schoolmaster or fleeing Stratford due to deer poaching are speculative in nature and have mostly been inferred from legends and anecdotes.\n",
      "\n",
      "3. Schooling: Although most biographers agree that Shakespeare was probably educated at the King's New School in Stratford, there are no existing attendance records to confirm this.\n",
      "\n",
      "4. Careers Beginning: It is not definitively known when Shakespeare began his career as a playwright, as stated in the section 'London and theatrical career.' The earliest mention of his work in the theatre comes from the attack by Robert Greene, but this does not conclusively establish the beginning of his career.\n",
      "\n",
      "5. Death of Hamnet: Hamnet's cause of death is unknown.\n",
      "\n",
      "These issues do not necessarily suggest false information, but rather indicate that the details presented are the most widely accepted theories given the lack of concrete evidence due to the historical period in question.\n",
      "There are several unverified statements or assumptions that could potentially be false, due to the lack of concrete historical evidence or because of ongoing scholarly debates. Here are some of them:\n",
      "\n",
      "1. \"In 1610, John Davies of Hereford wrote that \"good Will\" played \"kingly\" roles.\" - It's unclear what specific roles Shakespeare played, and this claim by John Davies is just speculation.\n",
      "\n",
      "2. \"In 1709, Rowe passed down a tradition that Shakespeare played the ghost of Hamlet's father. Later traditions maintain that he also played Adam in As You Like It, and the Chorus in Henry V, though scholars doubt the sources of that information.\" - There's no solid evidence for these claims, they are based on traditions and conjectures.\n",
      "\n",
      "3. \"He retired in 1613, before the Globe Theatre burned down during the performance of Henry VIII on 29 June.\" - The exact year of Shakespeare's retirement is not clear. Some evidence suggests that he may have continued working to some extent until around 1614.\n",
      "\n",
      "4. \"Shakespeare continued to visit London during the years 1611–1614.\" - The degree of Shakespeare's continued involvement in London theater is a matter of debate among scholars.\n",
      "\n",
      "5. “His last three plays were collaborations, probably with John Fletcher,” - Although most scholars accept Fletcher’s collaboration in “The Two Noble Kinsmen” and “Henry VIII,” the authorship of some of the plays attributed to Shakespeare is still a matter of ongoing debate.\n",
      "\n",
      "6. \"His (Shakespeare's) last will and testament on 25 March 1616; the following day, Thomas Quiney, his new son-in-law, was found guilty of fathering an illegitimate son by Margaret Wheeler, both of whom had died during childbirth.\" - These events may not be directly related, and the claim might be misleading.\n",
      "\n",
      "7. \"Shakespeare's will scarcely mentions his wife, Anne, who was probably entitled to one-third of his estate automatically. He did make a point, however, of leaving her \"my second best bed\", a bequest that has led to much speculation. Some scholars see the bequest as an insult to Anne...\" - This is pure speculation. The significance of the \"second best bed\" bequest is unknown and interpretations vary.\n",
      "\n",
      "8. \"Some time before 1623, a funerary monument was erected in his memory on the north wall, with a half-effigy of him in the act of writing.\" - Evidence suggests that Shakespeare's funerary monument may have been altered at some point, and its original form is a matter of dispute.\n",
      "\n",
      "9. “The first recorded works of Shakespeare are Richard III and the three parts of Henry VI” - The exact chronological order of Shakespeare’s plays is still a matter of debate, and assigning these as his first works is not certain. \n",
      "\n",
      "10. \"Shakespeare's plays are difficult to date precisely, however, and studies of the texts suggest that Titus Andronicus, The Comedy of Errors, The Taming of the Shrew, and The Two Gentlemen of Verona may also belong to Shakespeare's earliest period.\" Although they might be dated to Shakespeare's earliest period, the precise dating of his plays remains uncertain.\n",
      "\n",
      "The article appears to be largely consistent with recognized facts about William Shakespeare's life and works. However, there are a few points which could potentially be disputed, depending on the source. \n",
      "\n",
      "1. \"The plots of Shakespeare's tragedies often hinge on such fatal errors or flaws, which overturn order and destroy the hero and those he loves.\" – While this generalization is often true, it is not universally applicable to all of Shakespeare's tragic plays.\n",
      "\n",
      "2. \"Shakespeare's works include the 36 plays printed in the First Folio of 1623\" – There's an ongoing debate among scholars about the authorship of certain plays attributed to Shakespeare, including some that appear in the First Folio.\n",
      "\n",
      "3. \"The popular comic actor Will Kempe played the servant Peter in Romeo and Juliet and Dogberry in Much Ado About Nothing, among other characters.\" – The roles that Will Kempe played in Shakespeare's plays are matters of speculation, as there is no definitive record confirming he played these specific parts.\n",
      "\n",
      "4. \"In 1623, John Heminges and Henry Condell, two of Shakespeare's friends from the King's Men, published the First Folio, a collected edition of Shakespeare's plays.\" - Some scholars suggest that it's not known exactly who compiled the First Folio, even though it's generally accepted that it was John Heminges and Henry Condell.\n",
      "\n",
      "5. \"In the case of King Lear, however, while most modern editions do conflate them, the 1623 folio version is so different from the 1608 quarto\" - The year of the Quarto version of King Lear is typically given as 1605, not 1608.\n",
      "\n",
      "Please note that many of these points are a matter of ongoing scholarly debate.\n",
      "This article seems to be largely accurate, however, there are a few points that could be debated or clarified further:\n",
      "\n",
      "1. **Authorship of \"A Lover's Complaint\"**: The article states that \"most scholars now accept that Shakespeare wrote A Lover's Complaint,\" however, the authorship of this poem is still a subject of debate among some scholars. While it is generally accepted that Shakespeare is likely to be the author, there isn't a definitive consensus on it.\n",
      "\n",
      "2. **Shakespeare's sonnets and \"Mr. W.H.\"**: The article mentions it is not known who \"Mr. W.H.\" is but this is a topic of much contention. While there are numerous theories, nothing is definitively proven, which the article should acknowledge further.\n",
      "\n",
      "3. **Adaptation of traditional styles**: The article argues that Shakespeare adapted traditional styles for his own purposes, hinting at a level of intention that we can't definitively say Shakespeare had. This could be viewed as speculation.\n",
      "\n",
      "4. **Influence on later literature**: While it’s irrefutable that Shakespeare had a massive influence on later literature, attributing specific influences to certain authors or works (like Herman Melville’s Captain Ahab) can be speculative.\n",
      "\n",
      "5. **Number of pieces of music linked to Shakespeare's works**: The article states that \"scholars have identified 20,000 pieces of music linked to Shakespeare's works.\" It would be helpful for this figure to be supported by references, as this is quite a large number and might not be entirely accurate. \n",
      "\n",
      "Therefore, while most of the information appears to be correct or generally accepted by scholars, it would be necessary to cross-check and verify certain details, especially those concerning authorship, influence and historical facts.\n",
      "There are a few potentially misleading or false points in the article. \n",
      "\n",
      "1. In the first paragraph, it says that \"Actor and theatre director Simon Callow writes, '...each different culture – German, Italian, Russian - was obliged to respond to the Shakespearean example...'\". This implies that every culture was compelled to react to Shakespeare's works but this is not necessarily true. Many cultures have their own iconic literary figures and while Shakespeare is widely regarded as a predominant figure in world literature, it is not accurate to suggest every culture was 'obliged' to respond to his works. \n",
      "\n",
      "2. The statement that \"Shakespeare was not revered in his lifetime, but he received a large amount of praise\" is a bit contradictory. If he received a large amount of praise, it stands to reason that he was revered to some extent. The balance of his contemporary reputation compared to his posthumous acclaim could be clarified.\n",
      "\n",
      "3. Regarding Shakespeare's authorship, the text states that \"All but a few Shakespeare scholars and literary historians consider it a fringe theory, with only a small minority of academics who believe that there is reason to question the traditional attribution...\" However, it's worth noting that this is a controversial topic, and the division between scholars on this issue might not be as one-sided as the article suggests.\n",
      "\n",
      "4. Lastly, the description of Shakespeare's religious views is speculative. The text states \"Shakespeare conformed to the official state religion, but his private views on religion have been the subject of debate.\" While his public actions showed conformity to the Church of England, his private beliefs are largely unknown. The statement of his family being Catholic should be labeled as speculation.\n",
      "\n",
      "______________Artificial Intelligence\n",
      "1. The article states that Alan Turing was the first person to conduct research in the field of AI, which he referred to as 'machine intelligence.' However, while Turing is a pioneering figure in AI and Computer Science, attributing the beginning of AI research exclusively to him can be misleading. There were also other scientists such as Claude Shannon and John McCarthy who greatly contributed to the field in its infancy. The claim that Turing was the \"first\" requires more context or clarification.\n",
      "\n",
      "2. The article suggests that the term 'AI Winter' refers to periods of disappointment and loss of funding. While this is partially true, it doesn't fully encompass what an AI Winter entails. It is not just about disappointment or funding loss; it is also about the disillusionment due to overpromising and underdelivery of AI technology. \n",
      "\n",
      "3. The article mentions \"AI Spring\" in the early 2020s, which seems inaccurate as it's not a widely recognized or accepted term in the AI field.\n",
      "\n",
      "4. The article claims that \"companies, universities, and laboratories overwhelmingly based in the United States\" were pioneering advances in AI. While many breakthroughs have come from the United States, it's misleading to say it's \"overwhelmingly\" from there as notable advancements are also coming from Europe, Canada, China, and other parts of the world.\n",
      "\n",
      "5. The article suggests that general intelligence (the ability to complete any task performable by a human) is a long-term goal of AI. This is accurate but needs context. It's the goal of AGI (Artificial General Intelligence), one subset of AI, not necessarily all AI.\n",
      "\n",
      "6. There's a statement that \"Accurate and efficient reasoning is an unsolved problem.\" This may give the impression that no successes have been achieved in machine reasoning, which is not accurate. While perfection hasn't been reached, significant progress has been made.\n",
      "\n",
      "7. In the \"Planning and decision making\" section, it states that \"classical planning\" means the agent knows exactly what the effect of any action will be. However, this is a simplistic view. In reality, classical planning includes cases where there's uncertainty about the precise effects of an action.\n",
      "\n",
      "8. The last paragraph's statement that \"Machine learning is the study of programs that can improve their performance on a given task automatically. It has been a part of AI from the beginning,\" can potentially be misleading. Machine learning is indeed a core part of AI now, but it was not necessarily a foundation of AI \"from the very beginning,\" which was more focused on rule-based systems. The emphasis on machine learning as we know it today has become more prominent in recent decades.\n",
      "\n",
      "Accuracy of the observations might slightly vary depending upon the context and the source of this document, meanings/intentions of the author, etc. The above points are mere observations based on the provided text.\n",
      "Here are potential inaccuracies or areas that could be considered ambiguous:\n",
      "\n",
      "1. The assertion that in 2023 generative pre-trained transformer (GPT) language models were able to achieve human-level scores on the bar exam, SAT test, GRE test is a claim that seems to be forward-looking or speculative and thus is potentially false or at least yet to be corroborated.\n",
      "\n",
      "2. The sentence \"A logical knowledge base also handles queries and assertions as a special case of inference.\" seems ambiguous and might not necessarily be true as handling queries and assertions is not always a special case of inference.\n",
      "\n",
      "3. The statement \"Fuzzy logic assigns a 'degree of truth' between 0 and 1. It can therefore handle propositions that are vague and partially true.\" is not inherently false, but it simplifies the broad subject of fuzzy logic, potentially leading to misunderstandings. Fuzzy logic does handle degrees of truth but its practical application is more complex than just handling vague or partially true propositions.\n",
      "\n",
      "4. The statement that \"Simple exhaustive searches are rarely sufficient for most real-world problems: the search space (the number of places to search) quickly grows to astronomical numbers,\" might be perceived as subjective, as the efficacy of simple exhaustive searches might depend on the specific problem and resources at hand.\n",
      "\n",
      "5. The paragraph on probabilistic methods for uncertain reasoning could be seen as ambiguous or misleading due to the use of complex terms without sufficient explanation. This could lead to reader misunderstanding.\n",
      "\n",
      "6. The paragraph under \"Classifiers and statistical learning methods\" could potentially be false or misleading. The assertion that “The simplest AI applications can be divided into two types: classifiers ... and controllers” is an oversimplification. AI applications encompass a broad range of types and functionalities, many of which can't be strictly categorized as either classifiers or controllers.\n",
      "1. \"The decision tree is the simplest and most widely used symbolic machine learning algorithm\" - This is arguable because its usage depends on the context and could vary. While decision trees are popular, it is not definitively the \"most widely used.\"\n",
      "\n",
      "2. \"The naive Bayes classifier is reportedly the 'most widely used learner' at Google, due in part to its scalability.\" - This claim seems speculative without a direct quote or confirmed source from Google.\n",
      "\n",
      "3. \"Neural networks are also used as classifiers.\" - This statement is true, but it's too vague and lacks context about when neural networks are used as classifiers and what they classify.\n",
      "\n",
      "4. \"A network is typically called a deep neural network if it has at least 2 hidden layers.\" - This is not entirely accurate. While deep neural network does generally refer to networks with multiple hidden layers, there isn't a universally accepted threshold of \"2\" hidden layers.\n",
      "\n",
      "5. \"The reason that deep learning performs so well in so many applications is not known as of 2023.\" - The performance of deep learning in various applications can be attributed to a number of factors including increase in computational power, algorithm advancements, and availability of vast amounts of data for training models. Thus, it is not accurate to say it is not known.\n",
      "\n",
      "6. \"The sudden success of deep learning in 2012–2015 did not occur because of some new discovery\" - This can be argued, as there were significant advancements in deep learning architectures, techniques, and practical applications during this period.\n",
      "\n",
      "7. \"AlphaFold 2 (2021) demonstrated the ability to approximate, in hours rather than months, the 3D structure of a protein.\" - AlphaFold 2 certainly accelerated predictions of protein structure, but the exact timeframes (hours vs. months) would depend on the complexity of the protein and the computational capacity being used, so this statement might be slightly misleading.\n",
      "\n",
      "8. \"In 2023 it was reported that AI guided drug discovery helped find a class of antibiotics capable of killing two different types of drug-resistant bacteria.\" - This claim would require a citation or reference for verification.\n",
      "\n",
      "9. \"In 2021 an AI agent competed in a Playstation Gran Turismo competition, winning against four of the world’s best Gran Turismo drivers using deep reinforcement learning.\" - While technically possible, this claim would need a source for verification. \n",
      "\n",
      "10. The last part of the text is cut off abruptly, which makes it difficult to assess the accuracy of the final part discussing AI technology in military use.\n",
      "While the content in the provided text is largely speculative or theoretical due to its future setting (particularly 2023), it also contains some potential errors or falsehoods based on current or past known information. These include:\n",
      "\n",
      "1. The paragraph starting with \"There are also thousands of successful AI applications used to solve specific problems for specific industries or institutions\" mentions a 2017 survey stating that one in five companies had incorporated AI in their offerings or processes. Without a specific source or citation for this survey, its credibility can't be confirmed.\n",
      "\n",
      "2. In the same paragraph, it's indicated that AI has helped automate greenhouses and detect diseases and pests in agriculture. While there are ongoing trials and research in these areas, saying AI technology has significantly rolled out in these domains might be somewhat premature.\n",
      "\n",
      "3. In the \"Ethics\" section, the person Demis Hassabis is referenced as Demis Hassabis of Deep Mind instead of Demis Hassabis of DeepMind (no space). \n",
      "\n",
      "4. In the \"Privacy and copyright\" sub-section, it's mentioned that Amazon records private conversations to build speech recognition algorithms. However, this statement might be misleading. While Amazon does use customer interaction data to improve its services like Alexa, the assertion that they \"record millions of private conversations\" can be considered an invasion of privacy and not representative of the company's stated practice.\n",
      "\n",
      "5. The \"Algorithmic bias and fairness\" section refers to a couple of incidents involving Google Photos and COMPAS without providing specific sources or references for these incidents, which may raise questions about their veracity.\n",
      "\n",
      "Please note that without cross-referencing each piece of information with the latest data or reports, it's challenging to pinpoint all potential falsehoods or errors. This evaluation is based on generally known information as of the present.\n",
      "There are a number of potential inaccuracies or misrepresentations in the article provided. Firstly, the piece asserts that COMPAS exhibited racial bias, despite not being told the races of the defendants. This could be potentially misleading as correlation isn't causation - possible bias could be attributable to socio-economic factors, criminal history or various data points that could disproportionately affect certain racial communities. As this is a controversial issue, additional sources and review of the methodology used would be necessary to fully authenticate this claim. \n",
      "\n",
      "The article also extrapolates from Moritz Hardt saying \"the most robust fact in this research area is that fairness through blindness doesn't work.\" to establishing that AI and machine learning are inherently inclined to perpetuating bias found in historical data. This is a recurrent critique of such technologies, however, it over-simplifies the issue - machine learning models can be trained and fine-tuned to overcome bias if proactive measures are implemented.\n",
      "\n",
      "Furthermore, the proportion of AI engineers who are black or female is brought up as an explanation for biased outcomes. While diversity in AI is a notable concern for reducing bias, the article doesn't provide a clear connection between the developers' demographic characteristics and the resulting bias in AI systems. This inference might be potentially misleading.\n",
      "\n",
      "The text states that a \"system could identify skin diseases better than medical professionals.\" The role of AI in healthcare is rapidly evolving, but it's far from unanimous consensus that AI systems can outperform human doctors across the board.\n",
      "\n",
      "Also, the claim about lethal autonomous weapons is speculative. While such technologies are certainly being developed, their widespread usage on battlefields and accountability issues remain largely theoretical and are the subject of ongoing debate at both technical and legislative levels.\n",
      "\n",
      "Finally, the assertion about the impact of AI and automation on job markets is debatable. While some predict massive job displacement, others argue that technology will primarily change tasks within jobs, not eradicate them. The percentages mentioned for \"high risk\" jobs might be outdated or based on specific methodologies that not all researchers agree upon. \n",
      "\n",
      "The implication that AI, and not social policy or other factors, is the leading cause of unemployment could be an oversimplification or misrepresentation of a complex issue. Technological change, economic policies, education levels, and many other factors all contribute to changes in employment rates. \n",
      "\n",
      "In conclusion, there are several sections of the text that can be potentially misleading or are presented without sufficient context or clarification, making them subject to scrutiny.\n",
      "Based on the information provided, a potential falsehood cannot be established directly. As AI technology is still developing and the future of AI governance and usage is speculative, it's hard to definitively refute any claims, particularly on a future timeline. However, these aspects might be prone to some degree of inaccuracy without accompanying specifics or corroborating sources:\n",
      "\n",
      "1. In April 2023: As we don't have the context to know if this is future-dated from the present or if this article was written after 2023.\n",
      "2. AI pioneers including Fei-Fei Li, Geoffrey Hinton, ... : While all these AI experts have shared concerns on AI, specific examples or quotes of their views might be required to fully validate this claim.\n",
      "3. In 2023, many leading AI experts issued the joint statement: This is another claim that requires specific proof or citation to confer its validity.\n",
      "4. AI regulatory laws and national strategies: The precise numbers and details of AI-related laws passed in specific countries and the AI strategies of different countries require sources or data for validation.\n",
      "5. In 2023, OpenAI leaders published recommendations for the governance of superintelligence....: This would need a linked source to validate the claim that it indeed happened in 2023 and who exactly from OpenAI provided these recommendations.\n",
      "   \n",
      "Given the complexity of the topic, any data, statistics, or bold predictions should be cross-referenced with reliable sources to verify accuracy.\n",
      "1. The article mentions a \"2023 Fox News poll\" and a \"2023 Reuters/Ipsos poll\" along with the \"first global AI Safety Summit\" held in Bletchley Park, UK in November 2023. As of now, we're in 2022, so these future references can't be verified.\n",
      "\n",
      "2. In the history section, it mentions that \"the earliest AI programmes were written there in 1951–1952\". However, it doesn't specify where 'there' is.\n",
      "\n",
      "3. The article mentions \"Minsky's and Papert's book Perceptrons was understood as proving that artificial neural networks would never be useful for solving real-world tasks, thus discrediting the approach altogether.\" This is a broad statement, as Perceptrons was a very early work in AI and artificial neural networks, and it targeted a specific kind of neural network: single-layer perceptrons. It didn't conclude that neural networks would never be useful for real-life tasks, but rather that single-layer perceptrons had their limitations.\n",
      "\n",
      "4. When the text claims \"Alan Turing was thinking about machine intelligence at least as early as 1941, when he circulated a paper on machine intelligence which could be the earliest paper in the field of AI – though it is now lost,\" it's necessary to point out that the existence and content of this lost paper have not been verified or validated, making it hard to substantiate this statement with certainty.\n",
      "\n",
      "5. The statement, “In 1951, using a Ferranti Mark 1 computer of the University of Manchester, checkers and chess programs were wrote where you could play against the computer” is potentially inaccurate. The first computer chess program wasn't developed until 1951, but it wasn't until 1957 that a full-fledged chess program was developed to actually play a game of chess.\n",
      "\n",
      "6. The section on \"Rodney Brooks, rejected \"representation\" in general and focussed directly on engineering machines that move and survive\" could be partially incorrect as Rodney Brooks focused on behaviour-based robots, which also involve a sort of 'representation' as a side-effect of their behaviours.\n",
      "\n",
      "7. The sentence \"For many specific tasks, other methods were abandoned\" is vague. While deep learning has become popular, other methods aren't necessarily abandoned – they're often used in parallel or for different sorts of tasks.\n",
      "\n",
      "8. It's suggested that \"According to 'AI Impacts', about $50 billion annually was invested in \"AI\" around 2022 in the US alone\". As we're in 2022, this cannot be verified as accurate yet.\n",
      "The article seem well-researched and generally accurate, however, there are some potential issues, limitations, or points of clarification:\n",
      "\n",
      "1. The authors cite Russell and Norvig as agreeing with Turing that AI must be defined in terms of \"acting\" and not \"thinking\". Without direct quotes or specific citations, this claim might be misleading or overgeneralized. \n",
      "\n",
      "2. The authors suggests that John McCarthy and Marvin Minsky define intelligence similarly, when their definitions in the article seem to emphasize different aspects. McCarthy's definition appears to put more emphasis on achieving goals, whereas Minsky's on problem solving. The conflation may oversimplify their views.\n",
      "\n",
      "3. The article states that \"No established unifying theory or paradigm has guided AI research for most of its history\". While it's true that AI research has been guided by a variety of approaches, this statement might be misleading since there have been major paradigms that dominated different eras of AI research.\n",
      "\n",
      "4. The article's classification of \"neats\" and \"scruffies\" in AI research may not be universally recognized or accepted, and may oversimplify a complex field with a variety of approaches.\n",
      "\n",
      "5. Google's adoption of a specific definition of AI is mentioned, but no source or citation is provided, which could point to potential error or inaccuracy.\n",
      "\n",
      "6. The article refers to the idea of \"robot rights\" being considered by \"California's Institute for the Future\", but provides no direct source or reference. This needs verification.\n",
      " \n",
      "7. The article mentions the success of statistical machine learning in the 2010s. While it had success, framing it as an \"eclipsing\" event might be misleading without clarifying that other AI methods, paradigms, and techniques are still used and continue to be developed.\n",
      "\n",
      "Remember, these potential issues don't necessarily mean the content is inherently wrong, just that there's room for possible inaccuracy or misinterpretation without further information, sources, clarification, or context.\n",
      "______________UCLA\n",
      "The details presented in this article are consistent and in line with available historical records. However, I'll list potential points of factual uncertainty:\n",
      "\n",
      "1. The numbers stated for the undergraduate and graduate programs offered, as well as for student enrollment, applications for Fall 2022, and the number of medals won by the UCLA student-athletes, may change and therefore become inaccurate over time. They need to be verified with the most updated data.\n",
      "2. The figures for affiliations with Nobel laureates, Turing Award winners, Chief Scientists of the U.S. Air Force, Fields Medalists, faculty members elected to various national academies may require confirmation.\n",
      "4. Details about murder-suicide events and sexual harassment scandals, require up-to-date reports or legal records for validation.\n",
      "5. Specific historical details such as certain dates, name changes, and movements of the institution.\n",
      "6. The statement about UCLA being considered a Public Ivy, requires subjective classification and opinions, which may vary.\n",
      "7. The specifics about UCLA's relationship with the Tongva for the caretaking and landscaping of various areas of the campus would need to be confirmed by a legitimate source or document.\n",
      "8. The numbers mentioned regarding Westwood Forward's vote for separation from the Westwood Neighborhood Council. This precise data could be subject to verification from voting records.\n",
      "9. The specification that UCLA became a branch of UC Berkeley in 1919. The language used (\"branch\") may be confusing, as it technically became part of the University of California system, which is commonly understood as separate but equal institutions. \n",
      "\n",
      "These are potential points of contention or inaccuracy that could be verified or clarified with additional, up-to-date or specific sources.\n",
      "The article seems mostly factual, however, there might be a few potential inaccuracies or areas that require further confirmation:\n",
      "\n",
      "1. The number of lawsuits and accusations against UCLA for its response to sexual violence cases, their outcomes, and actions taken by UCLA - Without sources or references, it's hard to determine the accuracy of these claims. Cross-verification from reliable source materials is recommended.\n",
      "\n",
      "2. The amounts and specifics of bribes accepted by the UCLA men's soccer coach Jorge Salcedo in the 2019 college admissions bribery scandal. Again, solid sources would help confirm these details.\n",
      "\n",
      "3. The ranking of UCLA in various lists by U.S. News & World Report, The Washington Monthly, etc. - Rankings can fluctuate every year and it is always recommended to cross-check with updated rankings provided by these organizations.\n",
      "\n",
      "4. Claim that UCLA Medical Center ranks third in the United States and first in the West for 2021 by U.S. News & World Report Best Hospitals - This should be cross-verified with U.S. News & World Report's official release.\n",
      "\n",
      "Other details seem to be consistent with common knowledge, but in-depth verification from reliable sources would provide further certainty.\n",
      "Without specific and up-to-date sources for each claim, it's difficult to confirm the accuracy of each statistic or ranking mentioned. However, these are a few areas that could potentially contain inaccuracies or outdated information:\n",
      "\n",
      "1. The various rankings from different years: These rankings can change yearly and the given rating for a specific year might have changed in subsequent years or the rating at the point of writing may not be accurate.\n",
      "\n",
      "2. The statement about UCLA's library system being the \"12th largest library in the United States.\" \n",
      "\n",
      "3. The statement \"UCLA supplies the most undergraduate applicants to U.S. medical schools among all American universities.\" The most current data from Association of American Medical Colleges would be needed to verify this.\n",
      "\n",
      "4. The figures regarding first-time applicants to medical schools who graduated from UCLA having a 51% admission rate to U.S. medical schools in 2014.\n",
      "\n",
      "5. The statistics in the \"Admissions\" section about selectivity levels, applicant numbers, and admission rates for California residents, out-of-state U.S. residents, and international students.\n",
      "\n",
      "6. The statement that UCLA ranks academic factors as \"very important\" in their selection process for 2020. The university's own admissions page would be the most reliable source for this information. \n",
      "\n",
      "Please note that these are \"potential\" errors. You would need to confirm the facts from official or reputable sources for each individual item above to ascertain if any inaccurate data is present.\n",
      "While the provided article mostly appears to be consistent with standard information about universities, some potential inaccuracies or outdated information could exist. Here are a few points that might be false or need verification:\n",
      "\n",
      "1. Admissions stats (GPA, SAT scores, and acceptance rates for schools within UCLA and demographics) can change with each new academic year, the latest stated here is for Fall 2019. They need to be fact-checked with the most recent data.\n",
      "\n",
      "2. The number of UCLA stores since 1980 in South Korea or China, the newest store opening in Kuwait, and the annual profits from international licensing might need to be verified for accuracy.\n",
      "\n",
      "3. The data about UCLA's ranking as an employer in Los Angeles needs confirmation.\n",
      "\n",
      "4. UCLA's athletics history and statistics, including the room for uncertainty in the number of national championships won in various sports, the records held by teams, and comparisons with other colleges, need to be cross-referenced with the most recent, trusted statistics.\n",
      "\n",
      "5. The claim that UCLA's sports teams were redesigned in 1949 when Henry \"Red\" Sanders became the coach, including the changes Sanders purportedly made to the uniforms, needs to be verified with historical resources.\n",
      "\n",
      "To completely ensure the accuracy of this article, all the stated facts should be checked and updated if necessary.\n",
      "The article overall is well-written and detailed. However, there's a potential inaccuracy that should be noted:\n",
      "\n",
      "1. As of the information available publicly, it is not clearly stated that USC has the third-most NCAA Division I-sanctioned team championships. The phrasing \"UCLA teams have won the second-most NCAA Division I-sanctioned team championships, while USC has the third-most\" appears to suggest that only Stanford has more total NCAA championships than UCLA, with USC third. However, as of NCAA's official data, Stanford is first, but UCLA is second and USC is fourth in total team championships. Yale University actually holds the third most championships. \n",
      "\n",
      "Please note that this is based on publicly available information and the numbers may have varied slightly since the last official update. So, it would be advisable to provide the most current and specific source or reference to back that claim.\n",
      "\n",
      "The error was on the comparison of NCAA Championship wins by these universities. Information on non-athletic activities like student life, traditions, charities, and cultural organizations appear accurate based on common knowledge of UCLA, but without specific sources it's hard to confirm every detail.\n",
      "1. The opening line remaining incomplete: \"fe (Founder of Myspace).\" It's unclear who or what this is referring to.\n",
      "\n",
      "2. In the 'Student Government' section, there might be an error in the line: \"In the Spring 2016 election, the two competing parties were Bruins United and Waves of Change—a smaller faction that broke off of Lets Act.\" This seems to imply that the two parties were the same in 2015 (Bruins United and Let's Act) and in 2016 (Bruins United and Waves of Change). However, without full context or dates for each party's formation, this can't be confirmed as true or false.\n",
      "\n",
      "3. In the 'Media publications' section, the mention of UCLA Student Media's newspaper being LA's third-most circulated newspaper needs additional support for its legitimacy. It's a large claim that requires verification.\n",
      "\n",
      "4. Within the 'Housing' section, it's mentioned that UCLA offers four years of guaranteed housing to incoming freshmen. This could potentially be outdated information. The University's current housing policies should be confirmed.\n",
      "\n",
      "5. It's stated that the school of Law's UCLA Law Review is ranked seventh among American law schools. This is a significant claim that would need verification.\n",
      "\n",
      "6. Added information without clear context: \"Hospitality constituents of the university include departments not directly related to student life or administration.\" What these departments are or how they contribute aren't clear.\n",
      "\n",
      "7. The 'Chabad House' section states it was the first of its kind at a university, which is noteworthy and should be verified.\n",
      "1. The Healthy Campus Initiative was launched by Chancellor Gene Block in January 2013. [Need to verify this historical fact with appropriate documentation or press releases.]\n",
      "2. The UCLA Healthy Campus Initiative has inspired national initiatives, including the Partnership for a Healthier America (PHA) Healthier Campus Initiative and the University of California Office of the President (UCOP) Global Food Initiative (GFI). [Confirmation is required about whether these specific initiatives were inspired by UCLA's HCI.]\n",
      "3. In November 2014, UCLA was one of the 20 inaugural colleges and universities to pledge to adopt PHA's guidelines for food and nutrition, physical activity, and programming over three years. [Requires verification from reliable sources.]\n",
      "4. The Semel HCI is a member of both the Menus of Change Research Collaborative and the Teaching Kitchen Collaborative. [Membership details of these organizations need to be confirmed.]\n",
      "5. As of October 2023, 28 Nobel laureates have been affiliated with UCLA. [The date, October 2023, might indicate a false statement because as of my knowledge till 2021, there are only 18 Nobel laureates affiliated with UCLA according to the university's official press statements.]\n",
      "6. Alumni Nobel laureates include Richard Heck (Chemistry, 2010); Elinor Ostrom (Economic Sciences, 2009); and Randy Schekman (Physiology or Medicine, 2013). [Requires validation with appropriate sources.]\n",
      "7. In politics, Tom Bradley is mentioned as a UCLA alumnus who served as a Los Angeles Mayor from 1937–1940. [This statement is false. Tom Bradley actually served as the Mayor of Los Angeles from 1973 to 1993.]\n",
      "8. Vint Cerf, is described as one of the fathers of the internet, is an alumnus of UCLA, where he received his PhD. However, he received his undergraduate degree from Stanford University, so the dates provided in the text may need to be clarified. [Check exact years/dates of attendance at UCLA.]\n",
      "9. Alumni Blake Krikorian, co-founder of Sling Media, and Ben Horowitz and Marc Andreessen, co-founders of venture capital firm Andreessen Horowitz, aren't mentioned in the list of notable alumni, which may be lacking.\n",
      "10. In the sports section, the claim that UCLA men's basketball team produced Hall of Fame players such as Bill Walton and Kareem Abdul-Jabbar, as well as current NBA players Kevin Love and Russell Westbrook needs verification.\n"
     ]
    }
   ],
   "source": [
    "page_titles = ['Shakespeare','Artificial Intelligence','UCLA']\n",
    "\n",
    "for page_title in page_titles:\n",
    "    print('______________'+page_title)\n",
    "    text = get_wikipedia_content(page_title)\n",
    "    for i in range(len(split_text(text))):  \n",
    "        print(chatgpt_error_correction(split_text(text)[i]))"
   ]
  },
  {
   "cell_type": "code",
   "execution_count": null,
   "metadata": {
    "id": "6FKAJVXSoayA"
   },
   "outputs": [],
   "source": []
  },
  {
   "cell_type": "markdown",
   "metadata": {
    "id": "zPw5LyPEobmk"
   },
   "source": []
  },
  {
   "cell_type": "code",
   "execution_count": null,
   "metadata": {
    "id": "V7cuhML2ocGn"
   },
   "outputs": [],
   "source": []
  }
 ],
 "metadata": {
  "colab": {
   "provenance": []
  },
  "kernelspec": {
   "display_name": "Python 3 (ipykernel)",
   "language": "python",
   "name": "python3"
  },
  "language_info": {
   "codemirror_mode": {
    "name": "ipython",
    "version": 3
   },
   "file_extension": ".py",
   "mimetype": "text/x-python",
   "name": "python",
   "nbconvert_exporter": "python",
   "pygments_lexer": "ipython3",
   "version": "3.10.9"
  }
 },
 "nbformat": 4,
 "nbformat_minor": 1
}
